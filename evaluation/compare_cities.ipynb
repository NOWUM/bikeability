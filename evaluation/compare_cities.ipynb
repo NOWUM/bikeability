{
 "cells": [
  {
   "cell_type": "code",
   "execution_count": 146,
   "metadata": {},
   "outputs": [
    {
     "data": {
      "text/html": [
       "<div>\n",
       "<style scoped>\n",
       "    .dataframe tbody tr th:only-of-type {\n",
       "        vertical-align: middle;\n",
       "    }\n",
       "\n",
       "    .dataframe tbody tr th {\n",
       "        vertical-align: top;\n",
       "    }\n",
       "\n",
       "    .dataframe thead th {\n",
       "        text-align: right;\n",
       "    }\n",
       "</style>\n",
       "<table border=\"1\" class=\"dataframe\">\n",
       "  <thead>\n",
       "    <tr style=\"text-align: right;\">\n",
       "      <th></th>\n",
       "      <th>Unnamed: 0</th>\n",
       "      <th>id</th>\n",
       "      <th>geometry</th>\n",
       "      <th>centroid</th>\n",
       "      <th>node</th>\n",
       "      <th>building</th>\n",
       "      <th>score</th>\n",
       "    </tr>\n",
       "  </thead>\n",
       "  <tbody>\n",
       "    <tr>\n",
       "      <th>0</th>\n",
       "      <td>0</td>\n",
       "      <td>5651</td>\n",
       "      <td>POLYGON ((832593.267 5665561.344, 832620.962 5...</td>\n",
       "      <td>POINT (832651.3219950458 5665488.143941828)</td>\n",
       "      <td>324311126</td>\n",
       "      <td>yes</td>\n",
       "      <td>0.466884</td>\n",
       "    </tr>\n",
       "    <tr>\n",
       "      <th>1</th>\n",
       "      <td>1</td>\n",
       "      <td>5758</td>\n",
       "      <td>POLYGON ((832165.412 5666350.488, 832171.162 5...</td>\n",
       "      <td>POINT (832186.1185630546 5666321.843464637)</td>\n",
       "      <td>2544975287</td>\n",
       "      <td>yes</td>\n",
       "      <td>0.454622</td>\n",
       "    </tr>\n",
       "    <tr>\n",
       "      <th>2</th>\n",
       "      <td>2</td>\n",
       "      <td>5759</td>\n",
       "      <td>POLYGON ((832271.652 5666153.940, 832249.088 5...</td>\n",
       "      <td>POINT (832257.8332625618 5666167.364710427)</td>\n",
       "      <td>1864886872</td>\n",
       "      <td>hotel</td>\n",
       "      <td>0.485546</td>\n",
       "    </tr>\n",
       "    <tr>\n",
       "      <th>3</th>\n",
       "      <td>3</td>\n",
       "      <td>5761</td>\n",
       "      <td>POLYGON ((832336.382 5666383.377, 832331.898 5...</td>\n",
       "      <td>POINT (832335.2514454264 5666408.18403234)</td>\n",
       "      <td>26889715</td>\n",
       "      <td>yes</td>\n",
       "      <td>0.417645</td>\n",
       "    </tr>\n",
       "    <tr>\n",
       "      <th>4</th>\n",
       "      <td>4</td>\n",
       "      <td>5781</td>\n",
       "      <td>POLYGON ((832035.725 5665528.081, 832033.478 5...</td>\n",
       "      <td>POINT (832079.1088381336 5665532.265407829)</td>\n",
       "      <td>29283190</td>\n",
       "      <td>apartments</td>\n",
       "      <td>0.507577</td>\n",
       "    </tr>\n",
       "    <tr>\n",
       "      <th>...</th>\n",
       "      <td>...</td>\n",
       "      <td>...</td>\n",
       "      <td>...</td>\n",
       "      <td>...</td>\n",
       "      <td>...</td>\n",
       "      <td>...</td>\n",
       "      <td>...</td>\n",
       "    </tr>\n",
       "    <tr>\n",
       "      <th>69476</th>\n",
       "      <td>69476</td>\n",
       "      <td>1351800472</td>\n",
       "      <td>POLYGON ((839316.218 5663657.100, 839290.935 5...</td>\n",
       "      <td>POINT (839302.1758864798 5663649.568013117)</td>\n",
       "      <td>2203616096</td>\n",
       "      <td>yes</td>\n",
       "      <td>0.425630</td>\n",
       "    </tr>\n",
       "    <tr>\n",
       "      <th>69477</th>\n",
       "      <td>69477</td>\n",
       "      <td>1351800473</td>\n",
       "      <td>POLYGON ((839273.974 5663637.836, 839283.318 5...</td>\n",
       "      <td>POINT (839281.8325269073 5663637.330463486)</td>\n",
       "      <td>2203616096</td>\n",
       "      <td>yes</td>\n",
       "      <td>0.499729</td>\n",
       "    </tr>\n",
       "    <tr>\n",
       "      <th>69478</th>\n",
       "      <td>69478</td>\n",
       "      <td>1351999280</td>\n",
       "      <td>POLYGON ((825714.206 5669896.695, 825719.665 5...</td>\n",
       "      <td>POINT (825713.6297009723 5669890.64430275)</td>\n",
       "      <td>9714618954</td>\n",
       "      <td>yes</td>\n",
       "      <td>0.128184</td>\n",
       "    </tr>\n",
       "    <tr>\n",
       "      <th>69479</th>\n",
       "      <td>69479</td>\n",
       "      <td>1352072580</td>\n",
       "      <td>POLYGON ((844055.771 5661329.403, 844062.338 5...</td>\n",
       "      <td>POINT (844057.7664838051 5661325.106818343)</td>\n",
       "      <td>6447459730</td>\n",
       "      <td>yes</td>\n",
       "      <td>0.000000</td>\n",
       "    </tr>\n",
       "    <tr>\n",
       "      <th>69480</th>\n",
       "      <td>69480</td>\n",
       "      <td>1352438999</td>\n",
       "      <td>POLYGON ((835035.305 5673597.602, 835036.251 5...</td>\n",
       "      <td>POINT (835034.0570670883 5673599.886831423)</td>\n",
       "      <td>12496350437</td>\n",
       "      <td>yes</td>\n",
       "      <td>0.325518</td>\n",
       "    </tr>\n",
       "  </tbody>\n",
       "</table>\n",
       "<p>69481 rows × 7 columns</p>\n",
       "</div>"
      ],
      "text/plain": [
       "       Unnamed: 0          id  \\\n",
       "0               0        5651   \n",
       "1               1        5758   \n",
       "2               2        5759   \n",
       "3               3        5761   \n",
       "4               4        5781   \n",
       "...           ...         ...   \n",
       "69476       69476  1351800472   \n",
       "69477       69477  1351800473   \n",
       "69478       69478  1351999280   \n",
       "69479       69479  1352072580   \n",
       "69480       69480  1352438999   \n",
       "\n",
       "                                                geometry  \\\n",
       "0      POLYGON ((832593.267 5665561.344, 832620.962 5...   \n",
       "1      POLYGON ((832165.412 5666350.488, 832171.162 5...   \n",
       "2      POLYGON ((832271.652 5666153.940, 832249.088 5...   \n",
       "3      POLYGON ((832336.382 5666383.377, 832331.898 5...   \n",
       "4      POLYGON ((832035.725 5665528.081, 832033.478 5...   \n",
       "...                                                  ...   \n",
       "69476  POLYGON ((839316.218 5663657.100, 839290.935 5...   \n",
       "69477  POLYGON ((839273.974 5663637.836, 839283.318 5...   \n",
       "69478  POLYGON ((825714.206 5669896.695, 825719.665 5...   \n",
       "69479  POLYGON ((844055.771 5661329.403, 844062.338 5...   \n",
       "69480  POLYGON ((835035.305 5673597.602, 835036.251 5...   \n",
       "\n",
       "                                          centroid         node    building  \\\n",
       "0      POINT (832651.3219950458 5665488.143941828)    324311126         yes   \n",
       "1      POINT (832186.1185630546 5666321.843464637)   2544975287         yes   \n",
       "2      POINT (832257.8332625618 5666167.364710427)   1864886872       hotel   \n",
       "3       POINT (832335.2514454264 5666408.18403234)     26889715         yes   \n",
       "4      POINT (832079.1088381336 5665532.265407829)     29283190  apartments   \n",
       "...                                            ...          ...         ...   \n",
       "69476  POINT (839302.1758864798 5663649.568013117)   2203616096         yes   \n",
       "69477  POINT (839281.8325269073 5663637.330463486)   2203616096         yes   \n",
       "69478   POINT (825713.6297009723 5669890.64430275)   9714618954         yes   \n",
       "69479  POINT (844057.7664838051 5661325.106818343)   6447459730         yes   \n",
       "69480  POINT (835034.0570670883 5673599.886831423)  12496350437         yes   \n",
       "\n",
       "          score  \n",
       "0      0.466884  \n",
       "1      0.454622  \n",
       "2      0.485546  \n",
       "3      0.417645  \n",
       "4      0.507577  \n",
       "...         ...  \n",
       "69476  0.425630  \n",
       "69477  0.499729  \n",
       "69478  0.128184  \n",
       "69479  0.000000  \n",
       "69480  0.325518  \n",
       "\n",
       "[69481 rows x 7 columns]"
      ]
     },
     "execution_count": 146,
     "metadata": {},
     "output_type": "execute_result"
    }
   ],
   "source": [
    "import pandas as pd\n",
    "import geopandas as gpd\n",
    "from shapely import wkt, Polygon\n",
    "\n",
    "city_name = \"Dresden\"\n",
    "\n",
    "city = pd.read_csv(f\"../input/{city_name}/results.csv\")\n",
    "city['geometry'] = city['geometry'].apply(wkt.loads)\n",
    "gdf = gpd.GeoDataFrame(city, crs='epsg:25832')\n",
    "gdf"
   ]
  },
  {
   "cell_type": "code",
   "execution_count": 147,
   "metadata": {},
   "outputs": [],
   "source": [
    "centroids = gdf.centroid\n",
    "center_x = centroids.x.mean()\n",
    "center_y = centroids.y.mean()\n",
    "\n",
    "\n",
    "\n",
    "from shapely.geometry import Point\n",
    "center = Point(center_x, center_y)"
   ]
  },
  {
   "cell_type": "code",
   "execution_count": 148,
   "metadata": {},
   "outputs": [],
   "source": [
    "cityhalls = pd.read_csv(\"../input/cityhalls.csv\", index_col = 0)\n",
    "\n",
    "from pyproj import Transformer\n",
    "\n",
    "if city_name == \"München\":\n",
    "    city_name_hall = \"Muenchen\"\n",
    "elif city_name == \"Münster\":\n",
    "    city_name_hall = \"Muenster\"\n",
    "else:\n",
    "    city_name_hall = city_name\n",
    "\n",
    "\n",
    "transformer = Transformer.from_crs(\"WGS84\", \"EPSG:25832\")\n",
    "center = Point(transformer.transform(cityhalls.loc[city_name_hall].lat, cityhalls.loc[city_name_hall].lon))"
   ]
  },
  {
   "cell_type": "code",
   "execution_count": 149,
   "metadata": {},
   "outputs": [
    {
     "data": {
      "text/plain": [
       "69481"
      ]
     },
     "execution_count": 149,
     "metadata": {},
     "output_type": "execute_result"
    }
   ],
   "source": [
    "len(city.index)"
   ]
  },
  {
   "cell_type": "code",
   "execution_count": 150,
   "metadata": {},
   "outputs": [
    {
     "data": {
      "text/plain": [
       "62535"
      ]
     },
     "execution_count": 150,
     "metadata": {},
     "output_type": "execute_result"
    }
   ],
   "source": [
    "city_best90 = city.nlargest(round(0.9*len(city.index)), \"score\", keep = \"all\")\n",
    "    \n",
    "city_best90.to_csv(f\"../input/{city_name}/best90.csv\")\n",
    "len(city_best90.index)"
   ]
  },
  {
   "cell_type": "code",
   "execution_count": 151,
   "metadata": {},
   "outputs": [
    {
     "data": {
      "text/plain": [
       "0.3651017558609142"
      ]
     },
     "execution_count": 151,
     "metadata": {},
     "output_type": "execute_result"
    }
   ],
   "source": [
    "city_best90.score.mean()"
   ]
  },
  {
   "cell_type": "code",
   "execution_count": 152,
   "metadata": {},
   "outputs": [
    {
     "data": {
      "text/plain": [
       "0.16714443168326962"
      ]
     },
     "execution_count": 152,
     "metadata": {},
     "output_type": "execute_result"
    }
   ],
   "source": [
    "city_best90.score.std()"
   ]
  },
  {
   "cell_type": "code",
   "execution_count": 153,
   "metadata": {},
   "outputs": [
    {
     "data": {
      "text/plain": [
       "0.3782522001597166"
      ]
     },
     "execution_count": 153,
     "metadata": {},
     "output_type": "execute_result"
    }
   ],
   "source": [
    "city_best90.score.median()"
   ]
  },
  {
   "cell_type": "code",
   "execution_count": 154,
   "metadata": {},
   "outputs": [],
   "source": [
    "from shapely import distance\n",
    "\n",
    "point = centroids[0]\n",
    "\n",
    "distances = centroids.apply(distance, args = (center,))\n",
    "\n",
    "city.insert(6, \"distance_to_middle\", distances)\n",
    "city.to_csv(f\"../input/{city_name}/100percent.csv\")"
   ]
  },
  {
   "cell_type": "code",
   "execution_count": 155,
   "metadata": {},
   "outputs": [
    {
     "data": {
      "text/plain": [
       "2327"
      ]
     },
     "execution_count": 155,
     "metadata": {},
     "output_type": "execute_result"
    }
   ],
   "source": [
    "city_core = city[city.distance_to_middle < 2000]\n",
    "len(city_core.index)"
   ]
  },
  {
   "cell_type": "code",
   "execution_count": 156,
   "metadata": {},
   "outputs": [
    {
     "data": {
      "text/plain": [
       "0.4413353678631044"
      ]
     },
     "execution_count": 156,
     "metadata": {},
     "output_type": "execute_result"
    }
   ],
   "source": [
    "city_core.score.mean()"
   ]
  },
  {
   "cell_type": "code",
   "execution_count": 157,
   "metadata": {},
   "outputs": [
    {
     "data": {
      "text/plain": [
       "0.13098928956433906"
      ]
     },
     "execution_count": 157,
     "metadata": {},
     "output_type": "execute_result"
    }
   ],
   "source": [
    "city_core.score.std()"
   ]
  },
  {
   "cell_type": "code",
   "execution_count": 158,
   "metadata": {},
   "outputs": [
    {
     "data": {
      "text/plain": [
       "0.4667443896813675"
      ]
     },
     "execution_count": 158,
     "metadata": {},
     "output_type": "execute_result"
    }
   ],
   "source": [
    "city_core.score.median()"
   ]
  },
  {
   "cell_type": "code",
   "execution_count": 159,
   "metadata": {},
   "outputs": [
    {
     "data": {
      "text/plain": [
       "0.3289708033760211"
      ]
     },
     "execution_count": 159,
     "metadata": {},
     "output_type": "execute_result"
    }
   ],
   "source": [
    "city.score.mean()"
   ]
  },
  {
   "cell_type": "code",
   "execution_count": 160,
   "metadata": {},
   "outputs": [
    {
     "data": {
      "text/plain": [
       "0.19209774894442536"
      ]
     },
     "execution_count": 160,
     "metadata": {},
     "output_type": "execute_result"
    }
   ],
   "source": [
    "city.score.std()"
   ]
  },
  {
   "cell_type": "code",
   "execution_count": 161,
   "metadata": {},
   "outputs": [
    {
     "data": {
      "text/plain": [
       "0.3847121967200489"
      ]
     },
     "execution_count": 161,
     "metadata": {},
     "output_type": "execute_result"
    }
   ],
   "source": [
    "subset_keep = 0.8\n",
    "\n",
    "number_keep = len(city) * subset_keep\n",
    "number_keep = round(number_keep)\n",
    "city_center = city.nsmallest(n = number_keep, columns = [\"distance_to_middle\"], keep = \"all\")\n",
    "\n",
    "city_center = gpd.GeoDataFrame(city_center, crs='epsg:25832')\n",
    "city_center.to_csv(f\"../input/{city_name}/80percent.csv\")\n",
    "\n",
    "city_center.score.mean()"
   ]
  },
  {
   "cell_type": "code",
   "execution_count": 162,
   "metadata": {},
   "outputs": [
    {
     "data": {
      "text/plain": [
       "50029"
      ]
     },
     "execution_count": 162,
     "metadata": {},
     "output_type": "execute_result"
    }
   ],
   "source": [
    "city_keep80best90 = city_center.nlargest(round(0.9*len(city_center.index)), \"score\", keep = \"all\")\n",
    "    \n",
    "city_keep80best90.to_csv(f\"../input/{city_name}/best90keep80.csv\")\n",
    "len(city_keep80best90.index)"
   ]
  },
  {
   "cell_type": "code",
   "execution_count": 163,
   "metadata": {},
   "outputs": [
    {
     "data": {
      "text/plain": [
       "0.422578964330531"
      ]
     },
     "execution_count": 163,
     "metadata": {},
     "output_type": "execute_result"
    }
   ],
   "source": [
    "city_keep80best90.score.mean()"
   ]
  },
  {
   "cell_type": "code",
   "execution_count": 164,
   "metadata": {},
   "outputs": [
    {
     "data": {
      "text/plain": [
       "0.1268908982341365"
      ]
     },
     "execution_count": 164,
     "metadata": {},
     "output_type": "execute_result"
    }
   ],
   "source": [
    "city_keep80best90.score.std()"
   ]
  },
  {
   "cell_type": "code",
   "execution_count": 165,
   "metadata": {},
   "outputs": [
    {
     "data": {
      "text/plain": [
       "0.4315806091020356"
      ]
     },
     "execution_count": 165,
     "metadata": {},
     "output_type": "execute_result"
    }
   ],
   "source": [
    "city_keep80best90.score.median()"
   ]
  },
  {
   "cell_type": "code",
   "execution_count": 166,
   "metadata": {},
   "outputs": [
    {
     "data": {
      "text/plain": [
       "0.16619260070925979"
      ]
     },
     "execution_count": 166,
     "metadata": {},
     "output_type": "execute_result"
    }
   ],
   "source": [
    "city_center.score.std()"
   ]
  },
  {
   "cell_type": "code",
   "execution_count": 167,
   "metadata": {},
   "outputs": [
    {
     "data": {
      "text/plain": [
       "0.4241646027080365"
      ]
     },
     "execution_count": 167,
     "metadata": {},
     "output_type": "execute_result"
    }
   ],
   "source": [
    "subset_keep = 0.6\n",
    "\n",
    "number_keep = len(city) * subset_keep\n",
    "number_keep = round(number_keep)\n",
    "city_center = city.nsmallest(n = number_keep, columns = [\"distance_to_middle\"], keep = \"all\")\n",
    "\n",
    "city_center = gpd.GeoDataFrame(city_center, crs='epsg:25832')\n",
    "city_center.to_csv(f\"../input/{city_name}/60percent.csv\")\n",
    "\n",
    "city_center.score.mean()"
   ]
  },
  {
   "cell_type": "code",
   "execution_count": 168,
   "metadata": {},
   "outputs": [
    {
     "data": {
      "text/plain": [
       "0.14228198707180467"
      ]
     },
     "execution_count": 168,
     "metadata": {},
     "output_type": "execute_result"
    }
   ],
   "source": [
    "city_center.score.std()"
   ]
  },
  {
   "cell_type": "code",
   "execution_count": 169,
   "metadata": {},
   "outputs": [
    {
     "data": {
      "text/plain": [
       "0.4404419930325924"
      ]
     },
     "execution_count": 169,
     "metadata": {},
     "output_type": "execute_result"
    }
   ],
   "source": [
    "subset_keep = 0.5\n",
    "\n",
    "number_keep = len(city) * subset_keep\n",
    "number_keep = round(number_keep)\n",
    "city_center = city.nsmallest(n = number_keep, columns = [\"distance_to_middle\"], keep = \"all\")\n",
    "\n",
    "city_center = gpd.GeoDataFrame(city_center, crs='epsg:25832')\n",
    "city_center.to_csv(f\"../input/{city_name}/50percent.csv\")\n",
    "\n",
    "city_center.score.mean()"
   ]
  },
  {
   "cell_type": "code",
   "execution_count": 170,
   "metadata": {},
   "outputs": [
    {
     "data": {
      "text/plain": [
       "0.1361726206214362"
      ]
     },
     "execution_count": 170,
     "metadata": {},
     "output_type": "execute_result"
    }
   ],
   "source": [
    "city_center.score.std()"
   ]
  },
  {
   "cell_type": "code",
   "execution_count": 171,
   "metadata": {},
   "outputs": [],
   "source": [
    "p = Polygon([ [ 6.07653, 50.7535 ], [ 6.07286, 50.75483 ], [ 6.07997, 50.76308 ], [ 6.07706, 50.76672 ], [ 6.06919, 50.76122 ], [ 6.06403, 50.76011 ], [ 6.05842, 50.75889 ], [ 6.06056, 50.76208 ], [ 6.05403, 50.76619 ], [ 6.05319, 50.76825 ], [ 6.05256, 50.76983 ], [ 6.05322, 50.77031 ], [ 6.05467, 50.77131 ], [ 6.06258, 50.77675 ], [ 6.061, 50.79 ], [ 6.06208, 50.79061 ], [ 6.06817, 50.79414 ], [ 6.07397, 50.79142 ], [ 6.07606, 50.79161 ], [ 6.079, 50.79189 ], [ 6.08622, 50.78961 ], [ 6.09336, 50.79558 ], [ 6.09706, 50.79467 ], [ 6.10058, 50.79378 ], [ 6.1035, 50.7915 ], [ 6.10783, 50.79014 ], [ 6.11783, 50.79794 ], [ 6.12236, 50.79547 ], [ 6.12364, 50.79478 ], [ 6.12008, 50.78972 ], [ 6.12628, 50.78603 ], [ 6.13381, 50.78153 ], [ 6.15033, 50.78708 ], [ 6.15081, 50.78711 ], [ 6.16031, 50.78753 ], [ 6.16442, 50.78792 ], [ 6.16614, 50.78808 ], [ 6.16694, 50.78208 ], [ 6.16119, 50.77886 ], [ 6.14753, 50.77883 ], [ 6.1425, 50.77425 ], [ 6.15047, 50.7697 ], [ 6.15119, 50.76694 ], [ 6.14692, 50.76328 ], [ 6.14836, 50.76192 ], [ 6.14428, 50.75592 ], [ 6.14339, 50.75458 ], [ 6.14194, 50.75411 ], [ 6.14192, 50.75686 ], [ 6.13325, 50.76003 ], [ 6.13333, 50.76122 ], [ 6.13392, 50.7692 ], [ 6.12958, 50.77192 ], [ 6.12306, 50.76619 ], [ 6.116, 50.76 ], [ 6.11744, 50.75678 ], [ 6.11603, 50.75586 ], [ 6.10808, 50.75814 ], [ 6.10739, 50.75494 ], [ 6.10378, 50.75719 ], [ 6.09731, 50.75581 ], [ 6.09306, 50.74847 ], [ 6.09381, 50.74483 ], [ 6.0895, 50.74436 ], [ 6.08436, 50.75439 ], [ 6.08414, 50.75442 ], [ 6.08075, 50.75486 ], [ 6.07789, 50.753 ], [ 6.07653, 50.7535 ] ])\n",
    "\n",
    "p_series = gpd.GeoSeries(p, crs='wgs84')\n",
    "gdf = gdf.to_crs('wgs84')\n",
    "city_in_polygon = gdf[gdf.within(p)]\n",
    "city_in_polygon = city_in_polygon.to_crs(\"epsg:25832\")\n",
    "city_in_polygon.to_csv(f\"../input/{city_name}/polygonpercent.csv\")\n"
   ]
  },
  {
   "cell_type": "code",
   "execution_count": 172,
   "metadata": {},
   "outputs": [
    {
     "data": {
      "text/plain": [
       "0.4404419930325924"
      ]
     },
     "execution_count": 172,
     "metadata": {},
     "output_type": "execute_result"
    }
   ],
   "source": [
    "city_center.score.mean()"
   ]
  },
  {
   "cell_type": "code",
   "execution_count": 173,
   "metadata": {},
   "outputs": [
    {
     "data": {
      "text/plain": [
       "0.1361726206214362"
      ]
     },
     "execution_count": 173,
     "metadata": {},
     "output_type": "execute_result"
    }
   ],
   "source": [
    "city_center.score.std()"
   ]
  },
  {
   "cell_type": "code",
   "execution_count": 174,
   "metadata": {},
   "outputs": [],
   "source": [
    "import pandas as pd\n",
    "import geopandas as gpd\n",
    "import folium\n",
    "\n",
    "EXPORT_PATH = \"results\"\n",
    "\n",
    "def create_building_visualisation(buildings:gpd.GeoDataFrame):\n",
    "    buildings_for_vis = buildings[[\"id\", \"node\", \"building\", \"score\", \"geometry\", \"centroid\"]]\n",
    "    buildings_for_vis.rename(columns = {\"id\": \"OSM ID\",\n",
    "                                        \"node\": \"Zugehöriger Knoten\",\n",
    "                                        \"building\": \"Gebäudetyp\",\n",
    "                                        \"score\": \"Score\"},\n",
    "                             inplace = True)\n",
    "    buildings_vis = folium.Map(tiles = \"CartoDB positron\")\n",
    "    buildings_vis = buildings_for_vis.explore(column = \"Score\",\n",
    "                                      cmap = \"viridis\",\n",
    "                                      vmin = 0, \n",
    "                                      vmax = 1,\n",
    "                                      m = buildings_vis)\n",
    "    buildings_vis.save(f\"{EXPORT_PATH}/buildings.html\")"
   ]
  },
  {
   "cell_type": "code",
   "execution_count": null,
   "metadata": {},
   "outputs": [],
   "source": []
  }
 ],
 "metadata": {
  "kernelspec": {
   "display_name": "bikeability",
   "language": "python",
   "name": "python3"
  },
  "language_info": {
   "codemirror_mode": {
    "name": "ipython",
    "version": 3
   },
   "file_extension": ".py",
   "mimetype": "text/x-python",
   "name": "python",
   "nbconvert_exporter": "python",
   "pygments_lexer": "ipython3",
   "version": "3.12.4"
  }
 },
 "nbformat": 4,
 "nbformat_minor": 2
}
